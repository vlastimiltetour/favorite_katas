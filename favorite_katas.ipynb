{
  "nbformat": 4,
  "nbformat_minor": 0,
  "metadata": {
    "colab": {
      "provenance": [],
      "authorship_tag": "ABX9TyOG2MwIst9NyMPmra3dNaid",
      "include_colab_link": true
    },
    "kernelspec": {
      "name": "python3",
      "display_name": "Python 3"
    },
    "language_info": {
      "name": "python"
    }
  },
  "cells": [
    {
      "cell_type": "markdown",
      "metadata": {
        "id": "view-in-github",
        "colab_type": "text"
      },
      "source": [
        "<a href=\"https://colab.research.google.com/github/vlastimiltetour/favorite_katas/blob/main/favorite_katas.ipynb\" target=\"_parent\"><img src=\"https://colab.research.google.com/assets/colab-badge.svg\" alt=\"Open In Colab\"/></a>"
      ]
    },
    {
      "cell_type": "markdown",
      "source": [
        "Description:\n",
        "Consider an array containing cats and dogs. Each dog can catch only one cat, but cannot catch a cat that is more than n elements away. Your task will be to return the maximum number of cats that can be caught.\n",
        "\n",
        "For example:\n",
        "\n",
        "solve(['D','C','C','D','C'], 2) = 2, because the dog at index 0 (D0) catches C1 and D3 catches C4.\n",
        "solve(['C','C','D','D','C','D'], 2) = 3, because D2 catches C0, D3 catches C1 and D5 catches C4.\n",
        "solve(['C','C','D','D','C','D'], 1) = 2, because D2 catches C1, D3 catches C4. C0 cannot be caught because n == 1.\n",
        "solve(['D','C','D','D','C'], 1) = 2, too many dogs, so all cats get caught!\n",
        "Do not modify the input array.\n",
        "\n",
        "More examples in the test cases. Good luck!"
      ],
      "metadata": {
        "id": "4NI2-Il5tZom"
      }
    },
    {
      "cell_type": "code",
      "execution_count": null,
      "metadata": {
        "id": "wHJ81DKPtVA5"
      },
      "outputs": [],
      "source": [
        "def solve(arr,n):\n",
        "    available_cats = []\n",
        "    dogs = []\n",
        "    cats_cought = 0\n",
        "\n",
        "    for animal_idx in range(len(arr)):\n",
        "        if arr[animal_idx] == \"C\":\n",
        "\n",
        "            available_cats.append(animal_idx)\n",
        "        elif arr[animal_idx] == \"D\":\n",
        "            dogs.append(animal_idx)\n",
        "\n",
        "\n",
        "        for dog in dogs:\n",
        "            for cat in available_cats:\n",
        "                if abs(dog - cat) <= n:\n",
        "                    cats_cought += 1\n",
        "                    dogs.remove(dog)\n",
        "                    available_cats.remove(cat)\n",
        "                    break\n",
        "\n",
        "\n",
        "\n",
        "    return cats_cought\n",
        "\n",
        "\n",
        "\n",
        "print(solve(['D','C','C','D','C'], 1))#,2)\n",
        "print(solve(['C','C','D','D','C','D'],2))#,3)\n",
        "print(solve(['C','C','D','D','C','D'],1))#,2)\n",
        "print(solve(['D','C','D','C','C','D'],3))#,3)\n",
        "print(solve(['C','C','C','D','D'],3))#,2)\n",
        "print(solve(['C','C','C','D','D'],2))#,2)\n",
        "print(solve(['C','C','C','D','D'],1))#,1)"
      ]
    }
  ]
}